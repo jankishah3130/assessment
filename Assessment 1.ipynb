{
 "cells": [
  {
   "cell_type": "code",
   "execution_count": 1,
   "id": "035ffe36",
   "metadata": {},
   "outputs": [
    {
     "name": "stdout",
     "output_type": "stream",
     "text": [
      "                                             Bank Name                City  \\\n",
      "0                                  Fayette County Bank          Saint Elmo   \n",
      "1    Guaranty Bank, (d/b/a BestBank in Georgia & Mi...           Milwaukee   \n",
      "2                                       First NBC Bank         New Orleans   \n",
      "3                                        Proficio Bank  Cottonwood Heights   \n",
      "4                        Seaway Bank and Trust Company             Chicago   \n",
      "..                                                 ...                 ...   \n",
      "548                                 Superior Bank, FSB            Hinsdale   \n",
      "549                                Malta National Bank               Malta   \n",
      "550                    First Alliance Bank & Trust Co.          Manchester   \n",
      "551                  National State Bank of Metropolis          Metropolis   \n",
      "552                                   Bank of Honolulu            Honolulu   \n",
      "\n",
      "     ST   CERT                Acquiring Institution Closing Date Updated Date  \n",
      "0    IL   1802            United Fidelity Bank, fsb    26-May-17    26-Jul-17  \n",
      "1    WI  30003  First-Citizens Bank & Trust Company     5-May-17    26-Jul-17  \n",
      "2    LA  58302                         Whitney Bank    28-Apr-17    26-Jul-17  \n",
      "3    UT  35495                    Cache Valley Bank     3-Mar-17    18-May-17  \n",
      "4    IL  19328                  State Bank of Texas    27-Jan-17    18-May-17  \n",
      "..   ..    ...                                  ...          ...          ...  \n",
      "548  IL  32646                Superior Federal, FSB    27-Jul-01    19-Aug-14  \n",
      "549  OH   6629                    North Valley Bank     3-May-01    18-Nov-02  \n",
      "550  NH  34264  Southern New Hampshire Bank & Trust     2-Feb-01    18-Feb-03  \n",
      "551  IL   3815              Banterra Bank of Marion    14-Dec-00    17-Mar-05  \n",
      "552  HI  21029                   Bank of the Orient    13-Oct-00    17-Mar-05  \n",
      "\n",
      "[553 rows x 7 columns]\n"
     ]
    }
   ],
   "source": [
    "# 1) Import pandas and read in the banklist.csv file into a dataframe called banks.\n",
    "import pandas as pd\n",
    "df = pd.read_csv('C:/Users/HP/OneDrive/Desktop/Data Analysis/Assessment/banklist.csv')\n",
    "print(df)"
   ]
  },
  {
   "cell_type": "code",
   "execution_count": 2,
   "id": "a4cdb16b",
   "metadata": {},
   "outputs": [
    {
     "data": {
      "text/html": [
       "<div>\n",
       "<style scoped>\n",
       "    .dataframe tbody tr th:only-of-type {\n",
       "        vertical-align: middle;\n",
       "    }\n",
       "\n",
       "    .dataframe tbody tr th {\n",
       "        vertical-align: top;\n",
       "    }\n",
       "\n",
       "    .dataframe thead th {\n",
       "        text-align: right;\n",
       "    }\n",
       "</style>\n",
       "<table border=\"1\" class=\"dataframe\">\n",
       "  <thead>\n",
       "    <tr style=\"text-align: right;\">\n",
       "      <th></th>\n",
       "      <th>Bank Name</th>\n",
       "      <th>City</th>\n",
       "      <th>ST</th>\n",
       "      <th>CERT</th>\n",
       "      <th>Acquiring Institution</th>\n",
       "      <th>Closing Date</th>\n",
       "      <th>Updated Date</th>\n",
       "    </tr>\n",
       "  </thead>\n",
       "  <tbody>\n",
       "    <tr>\n",
       "      <th>0</th>\n",
       "      <td>Fayette County Bank</td>\n",
       "      <td>Saint Elmo</td>\n",
       "      <td>IL</td>\n",
       "      <td>1802</td>\n",
       "      <td>United Fidelity Bank, fsb</td>\n",
       "      <td>26-May-17</td>\n",
       "      <td>26-Jul-17</td>\n",
       "    </tr>\n",
       "    <tr>\n",
       "      <th>1</th>\n",
       "      <td>Guaranty Bank, (d/b/a BestBank in Georgia &amp; Mi...</td>\n",
       "      <td>Milwaukee</td>\n",
       "      <td>WI</td>\n",
       "      <td>30003</td>\n",
       "      <td>First-Citizens Bank &amp; Trust Company</td>\n",
       "      <td>5-May-17</td>\n",
       "      <td>26-Jul-17</td>\n",
       "    </tr>\n",
       "    <tr>\n",
       "      <th>2</th>\n",
       "      <td>First NBC Bank</td>\n",
       "      <td>New Orleans</td>\n",
       "      <td>LA</td>\n",
       "      <td>58302</td>\n",
       "      <td>Whitney Bank</td>\n",
       "      <td>28-Apr-17</td>\n",
       "      <td>26-Jul-17</td>\n",
       "    </tr>\n",
       "    <tr>\n",
       "      <th>3</th>\n",
       "      <td>Proficio Bank</td>\n",
       "      <td>Cottonwood Heights</td>\n",
       "      <td>UT</td>\n",
       "      <td>35495</td>\n",
       "      <td>Cache Valley Bank</td>\n",
       "      <td>3-Mar-17</td>\n",
       "      <td>18-May-17</td>\n",
       "    </tr>\n",
       "    <tr>\n",
       "      <th>4</th>\n",
       "      <td>Seaway Bank and Trust Company</td>\n",
       "      <td>Chicago</td>\n",
       "      <td>IL</td>\n",
       "      <td>19328</td>\n",
       "      <td>State Bank of Texas</td>\n",
       "      <td>27-Jan-17</td>\n",
       "      <td>18-May-17</td>\n",
       "    </tr>\n",
       "  </tbody>\n",
       "</table>\n",
       "</div>"
      ],
      "text/plain": [
       "                                           Bank Name                City  ST  \\\n",
       "0                                Fayette County Bank          Saint Elmo  IL   \n",
       "1  Guaranty Bank, (d/b/a BestBank in Georgia & Mi...           Milwaukee  WI   \n",
       "2                                     First NBC Bank         New Orleans  LA   \n",
       "3                                      Proficio Bank  Cottonwood Heights  UT   \n",
       "4                      Seaway Bank and Trust Company             Chicago  IL   \n",
       "\n",
       "    CERT                Acquiring Institution Closing Date Updated Date  \n",
       "0   1802            United Fidelity Bank, fsb    26-May-17    26-Jul-17  \n",
       "1  30003  First-Citizens Bank & Trust Company     5-May-17    26-Jul-17  \n",
       "2  58302                         Whitney Bank    28-Apr-17    26-Jul-17  \n",
       "3  35495                    Cache Valley Bank     3-Mar-17    18-May-17  \n",
       "4  19328                  State Bank of Texas    27-Jan-17    18-May-17  "
      ]
     },
     "execution_count": 2,
     "metadata": {},
     "output_type": "execute_result"
    }
   ],
   "source": [
    "# 2) Show the head of the dataframe.\n",
    "df.head()"
   ]
  },
  {
   "cell_type": "code",
   "execution_count": 5,
   "id": "9af119b5",
   "metadata": {},
   "outputs": [
    {
     "ename": "TypeError",
     "evalue": "'Index' object is not callable",
     "output_type": "error",
     "traceback": [
      "\u001b[1;31m---------------------------------------------------------------------------\u001b[0m",
      "\u001b[1;31mTypeError\u001b[0m                                 Traceback (most recent call last)",
      "Cell \u001b[1;32mIn[5], line 2\u001b[0m\n\u001b[0;32m      1\u001b[0m \u001b[38;5;66;03m# 3) What are the column names?\u001b[39;00m\n\u001b[1;32m----> 2\u001b[0m df\u001b[38;5;241m.\u001b[39mcolumns()\n",
      "\u001b[1;31mTypeError\u001b[0m: 'Index' object is not callable"
     ]
    }
   ],
   "source": [
    "# 3) What are the column names?\n",
    "df.columns()"
   ]
  },
  {
   "cell_type": "code",
   "execution_count": 6,
   "id": "be4e2c0c",
   "metadata": {},
   "outputs": [
    {
     "data": {
      "text/plain": [
       "Index(['Bank Name', 'City', 'ST', 'CERT', 'Acquiring Institution',\n",
       "       'Closing Date', 'Updated Date'],\n",
       "      dtype='object')"
      ]
     },
     "execution_count": 6,
     "metadata": {},
     "output_type": "execute_result"
    }
   ],
   "source": [
    "df.columns"
   ]
  },
  {
   "cell_type": "code",
   "execution_count": 8,
   "id": "23c6dfc2",
   "metadata": {},
   "outputs": [
    {
     "data": {
      "text/plain": [
       "44"
      ]
     },
     "execution_count": 8,
     "metadata": {},
     "output_type": "execute_result"
    }
   ],
   "source": [
    "# 4) How many States (ST) are represented in this data set?\n",
    "df['ST'].unique().shape[0]"
   ]
  },
  {
   "cell_type": "code",
   "execution_count": 9,
   "id": "295b2c99",
   "metadata": {},
   "outputs": [
    {
     "data": {
      "text/plain": [
       "array(['IL', 'WI', 'LA', 'UT', 'NJ', 'AR', 'GA', 'PA', 'TN', 'WA', 'CO',\n",
       "       'PR', 'FL', 'MN', 'CA', 'MD', 'OK', 'OH', 'SC', 'VA', 'ID', 'TX',\n",
       "       'CT', 'AZ', 'NV', 'NC', 'KY', 'MO', 'KS', 'AL', 'MI', 'IN', 'IA',\n",
       "       'NE', 'MS', 'NM', 'OR', 'NY', 'MA', 'SD', 'WY', 'WV', 'NH', 'HI'],\n",
       "      dtype=object)"
      ]
     },
     "execution_count": 9,
     "metadata": {},
     "output_type": "execute_result"
    }
   ],
   "source": [
    "# 5) Get a list or array of all the states in the data set.\n",
    "df['ST'].unique()"
   ]
  },
  {
   "cell_type": "code",
   "execution_count": 11,
   "id": "811686b6",
   "metadata": {},
   "outputs": [
    {
     "data": {
      "text/plain": [
       "ST\n",
       "GA    93\n",
       "FL    75\n",
       "IL    68\n",
       "CA    41\n",
       "MN    23\n",
       "Name: count, dtype: int64"
      ]
     },
     "execution_count": 11,
     "metadata": {},
     "output_type": "execute_result"
    }
   ],
   "source": [
    "# 6) What are the top 5 states with the most failed banks?\n",
    "df['ST'].value_counts().head()"
   ]
  },
  {
   "cell_type": "code",
   "execution_count": 13,
   "id": "a1263920",
   "metadata": {},
   "outputs": [
    {
     "data": {
      "text/plain": [
       "Acquiring Institution\n",
       "No Acquirer                            31\n",
       "State Bank and Trust Company           12\n",
       "First-Citizens Bank & Trust Company    11\n",
       "Ameris Bank                            10\n",
       "U.S. Bank N.A.                          9\n",
       "Name: count, dtype: int64"
      ]
     },
     "execution_count": 13,
     "metadata": {},
     "output_type": "execute_result"
    }
   ],
   "source": [
    "# 7) What are the top 5 acquiring institutions?\n",
    "df['Acquiring Institution'].value_counts().head()"
   ]
  },
  {
   "cell_type": "code",
   "execution_count": 15,
   "id": "cbf6e55e",
   "metadata": {},
   "outputs": [
    {
     "ename": "SyntaxError",
     "evalue": "cannot assign to subscript here. Maybe you meant '==' instead of '='? (2391820365.py, line 2)",
     "output_type": "error",
     "traceback": [
      "\u001b[1;36m  Cell \u001b[1;32mIn[15], line 2\u001b[1;36m\u001b[0m\n\u001b[1;33m    df[df['Acquiring Institution'] = 'State Bank of Texas']\u001b[0m\n\u001b[1;37m       ^\u001b[0m\n\u001b[1;31mSyntaxError\u001b[0m\u001b[1;31m:\u001b[0m cannot assign to subscript here. Maybe you meant '==' instead of '='?\n"
     ]
    }
   ],
   "source": [
    "# 8) How many banks has the State Bank of Texas acquired? How many of them were actually in Texas?\n",
    "df[df['Acquiring Institution'] = 'State Bank of Texas']"
   ]
  },
  {
   "cell_type": "code",
   "execution_count": 16,
   "id": "e4ff140e",
   "metadata": {},
   "outputs": [
    {
     "data": {
      "text/html": [
       "<div>\n",
       "<style scoped>\n",
       "    .dataframe tbody tr th:only-of-type {\n",
       "        vertical-align: middle;\n",
       "    }\n",
       "\n",
       "    .dataframe tbody tr th {\n",
       "        vertical-align: top;\n",
       "    }\n",
       "\n",
       "    .dataframe thead th {\n",
       "        text-align: right;\n",
       "    }\n",
       "</style>\n",
       "<table border=\"1\" class=\"dataframe\">\n",
       "  <thead>\n",
       "    <tr style=\"text-align: right;\">\n",
       "      <th></th>\n",
       "      <th>Bank Name</th>\n",
       "      <th>City</th>\n",
       "      <th>ST</th>\n",
       "      <th>CERT</th>\n",
       "      <th>Acquiring Institution</th>\n",
       "      <th>Closing Date</th>\n",
       "      <th>Updated Date</th>\n",
       "    </tr>\n",
       "  </thead>\n",
       "  <tbody>\n",
       "    <tr>\n",
       "      <th>4</th>\n",
       "      <td>Seaway Bank and Trust Company</td>\n",
       "      <td>Chicago</td>\n",
       "      <td>IL</td>\n",
       "      <td>19328</td>\n",
       "      <td>State Bank of Texas</td>\n",
       "      <td>27-Jan-17</td>\n",
       "      <td>18-May-17</td>\n",
       "    </tr>\n",
       "    <tr>\n",
       "      <th>21</th>\n",
       "      <td>The National Republic Bank of Chicago</td>\n",
       "      <td>Chicago</td>\n",
       "      <td>IL</td>\n",
       "      <td>916</td>\n",
       "      <td>State Bank of Texas</td>\n",
       "      <td>24-Oct-14</td>\n",
       "      <td>6-Jan-16</td>\n",
       "    </tr>\n",
       "    <tr>\n",
       "      <th>450</th>\n",
       "      <td>Millennium State Bank of Texas</td>\n",
       "      <td>Dallas</td>\n",
       "      <td>TX</td>\n",
       "      <td>57667</td>\n",
       "      <td>State Bank of Texas</td>\n",
       "      <td>2-Jul-09</td>\n",
       "      <td>26-Oct-12</td>\n",
       "    </tr>\n",
       "  </tbody>\n",
       "</table>\n",
       "</div>"
      ],
      "text/plain": [
       "                                 Bank Name     City  ST   CERT  \\\n",
       "4            Seaway Bank and Trust Company  Chicago  IL  19328   \n",
       "21   The National Republic Bank of Chicago  Chicago  IL    916   \n",
       "450         Millennium State Bank of Texas   Dallas  TX  57667   \n",
       "\n",
       "    Acquiring Institution Closing Date Updated Date  \n",
       "4     State Bank of Texas    27-Jan-17    18-May-17  \n",
       "21    State Bank of Texas    24-Oct-14     6-Jan-16  \n",
       "450   State Bank of Texas     2-Jul-09    26-Oct-12  "
      ]
     },
     "execution_count": 16,
     "metadata": {},
     "output_type": "execute_result"
    }
   ],
   "source": [
    "df[df['Acquiring Institution'] == 'State Bank of Texas']"
   ]
  },
  {
   "cell_type": "code",
   "execution_count": 18,
   "id": "351b29b1",
   "metadata": {},
   "outputs": [
    {
     "data": {
      "text/plain": [
       "3"
      ]
     },
     "execution_count": 18,
     "metadata": {},
     "output_type": "execute_result"
    }
   ],
   "source": [
    "len(df[df['Acquiring Institution'] == 'State Bank of Texas'])"
   ]
  },
  {
   "cell_type": "code",
   "execution_count": 23,
   "id": "3d69352f",
   "metadata": {},
   "outputs": [
    {
     "data": {
      "text/html": [
       "<div>\n",
       "<style scoped>\n",
       "    .dataframe tbody tr th:only-of-type {\n",
       "        vertical-align: middle;\n",
       "    }\n",
       "\n",
       "    .dataframe tbody tr th {\n",
       "        vertical-align: top;\n",
       "    }\n",
       "\n",
       "    .dataframe thead th {\n",
       "        text-align: right;\n",
       "    }\n",
       "</style>\n",
       "<table border=\"1\" class=\"dataframe\">\n",
       "  <thead>\n",
       "    <tr style=\"text-align: right;\">\n",
       "      <th></th>\n",
       "      <th>Bank Name</th>\n",
       "      <th>City</th>\n",
       "      <th>ST</th>\n",
       "      <th>CERT</th>\n",
       "      <th>Acquiring Institution</th>\n",
       "      <th>Closing Date</th>\n",
       "      <th>Updated Date</th>\n",
       "    </tr>\n",
       "  </thead>\n",
       "  <tbody>\n",
       "    <tr>\n",
       "      <th>37</th>\n",
       "      <td>Texas Community Bank, National Association</td>\n",
       "      <td>The Woodlands</td>\n",
       "      <td>TX</td>\n",
       "      <td>57431</td>\n",
       "      <td>Spirit of Texas Bank, SSB</td>\n",
       "      <td>13-Dec-13</td>\n",
       "      <td>29-Dec-14</td>\n",
       "    </tr>\n",
       "    <tr>\n",
       "      <th>39</th>\n",
       "      <td>First National Bank also operating as The Nati...</td>\n",
       "      <td>Edinburg</td>\n",
       "      <td>TX</td>\n",
       "      <td>14318</td>\n",
       "      <td>PlainsCapital Bank</td>\n",
       "      <td>13-Sep-13</td>\n",
       "      <td>27-May-15</td>\n",
       "    </tr>\n",
       "    <tr>\n",
       "      <th>130</th>\n",
       "      <td>First International Bank</td>\n",
       "      <td>Plano</td>\n",
       "      <td>TX</td>\n",
       "      <td>33513</td>\n",
       "      <td>American First National Bank</td>\n",
       "      <td>30-Sep-11</td>\n",
       "      <td>5-Feb-15</td>\n",
       "    </tr>\n",
       "    <tr>\n",
       "      <th>343</th>\n",
       "      <td>The La Coste National Bank</td>\n",
       "      <td>La Coste</td>\n",
       "      <td>TX</td>\n",
       "      <td>3287</td>\n",
       "      <td>Community National Bank</td>\n",
       "      <td>19-Feb-10</td>\n",
       "      <td>19-Aug-14</td>\n",
       "    </tr>\n",
       "    <tr>\n",
       "      <th>386</th>\n",
       "      <td>North Houston Bank</td>\n",
       "      <td>Houston</td>\n",
       "      <td>TX</td>\n",
       "      <td>18776</td>\n",
       "      <td>U.S. Bank N.A.</td>\n",
       "      <td>30-Oct-09</td>\n",
       "      <td>22-Aug-12</td>\n",
       "    </tr>\n",
       "    <tr>\n",
       "      <th>387</th>\n",
       "      <td>Madisonville State Bank</td>\n",
       "      <td>Madisonville</td>\n",
       "      <td>TX</td>\n",
       "      <td>33782</td>\n",
       "      <td>U.S. Bank N.A.</td>\n",
       "      <td>30-Oct-09</td>\n",
       "      <td>22-Aug-12</td>\n",
       "    </tr>\n",
       "    <tr>\n",
       "      <th>388</th>\n",
       "      <td>Citizens National Bank</td>\n",
       "      <td>Teague</td>\n",
       "      <td>TX</td>\n",
       "      <td>25222</td>\n",
       "      <td>U.S. Bank N.A.</td>\n",
       "      <td>30-Oct-09</td>\n",
       "      <td>22-Aug-12</td>\n",
       "    </tr>\n",
       "    <tr>\n",
       "      <th>420</th>\n",
       "      <td>Guaranty Bank</td>\n",
       "      <td>Austin</td>\n",
       "      <td>TX</td>\n",
       "      <td>32618</td>\n",
       "      <td>BBVA Compass</td>\n",
       "      <td>21-Aug-09</td>\n",
       "      <td>21-Aug-12</td>\n",
       "    </tr>\n",
       "    <tr>\n",
       "      <th>450</th>\n",
       "      <td>Millennium State Bank of Texas</td>\n",
       "      <td>Dallas</td>\n",
       "      <td>TX</td>\n",
       "      <td>57667</td>\n",
       "      <td>State Bank of Texas</td>\n",
       "      <td>2-Jul-09</td>\n",
       "      <td>26-Oct-12</td>\n",
       "    </tr>\n",
       "    <tr>\n",
       "      <th>501</th>\n",
       "      <td>Sanderson State Bank</td>\n",
       "      <td>Sanderson</td>\n",
       "      <td>TX</td>\n",
       "      <td>11568</td>\n",
       "      <td>The Pecos County State Bank</td>\n",
       "      <td>12-Dec-08</td>\n",
       "      <td>25-Oct-13</td>\n",
       "    </tr>\n",
       "    <tr>\n",
       "      <th>508</th>\n",
       "      <td>Franklin Bank, SSB</td>\n",
       "      <td>Houston</td>\n",
       "      <td>TX</td>\n",
       "      <td>26870</td>\n",
       "      <td>Prosperity Bank</td>\n",
       "      <td>7-Nov-08</td>\n",
       "      <td>16-Aug-12</td>\n",
       "    </tr>\n",
       "    <tr>\n",
       "      <th>545</th>\n",
       "      <td>Bank of Sierra Blanca</td>\n",
       "      <td>Sierra Blanca</td>\n",
       "      <td>TX</td>\n",
       "      <td>22002</td>\n",
       "      <td>The Security State Bank of Pecos</td>\n",
       "      <td>18-Jan-02</td>\n",
       "      <td>6-Nov-03</td>\n",
       "    </tr>\n",
       "  </tbody>\n",
       "</table>\n",
       "</div>"
      ],
      "text/plain": [
       "                                             Bank Name           City  ST  \\\n",
       "37          Texas Community Bank, National Association  The Woodlands  TX   \n",
       "39   First National Bank also operating as The Nati...       Edinburg  TX   \n",
       "130                           First International Bank          Plano  TX   \n",
       "343                         The La Coste National Bank       La Coste  TX   \n",
       "386                                 North Houston Bank        Houston  TX   \n",
       "387                            Madisonville State Bank   Madisonville  TX   \n",
       "388                             Citizens National Bank         Teague  TX   \n",
       "420                                      Guaranty Bank         Austin  TX   \n",
       "450                     Millennium State Bank of Texas         Dallas  TX   \n",
       "501                               Sanderson State Bank      Sanderson  TX   \n",
       "508                                 Franklin Bank, SSB        Houston  TX   \n",
       "545                              Bank of Sierra Blanca  Sierra Blanca  TX   \n",
       "\n",
       "      CERT             Acquiring Institution Closing Date Updated Date  \n",
       "37   57431         Spirit of Texas Bank, SSB    13-Dec-13    29-Dec-14  \n",
       "39   14318                PlainsCapital Bank    13-Sep-13    27-May-15  \n",
       "130  33513      American First National Bank    30-Sep-11     5-Feb-15  \n",
       "343   3287           Community National Bank    19-Feb-10    19-Aug-14  \n",
       "386  18776                    U.S. Bank N.A.    30-Oct-09    22-Aug-12  \n",
       "387  33782                    U.S. Bank N.A.    30-Oct-09    22-Aug-12  \n",
       "388  25222                    U.S. Bank N.A.    30-Oct-09    22-Aug-12  \n",
       "420  32618                      BBVA Compass    21-Aug-09    21-Aug-12  \n",
       "450  57667               State Bank of Texas     2-Jul-09    26-Oct-12  \n",
       "501  11568       The Pecos County State Bank    12-Dec-08    25-Oct-13  \n",
       "508  26870                   Prosperity Bank     7-Nov-08    16-Aug-12  \n",
       "545  22002  The Security State Bank of Pecos    18-Jan-02     6-Nov-03  "
      ]
     },
     "execution_count": 23,
     "metadata": {},
     "output_type": "execute_result"
    }
   ],
   "source": [
    "df[df['ST'] == 'TX']"
   ]
  },
  {
   "cell_type": "code",
   "execution_count": 28,
   "id": "143e1379",
   "metadata": {},
   "outputs": [
    {
     "data": {
      "text/plain": [
       "1"
      ]
     },
     "execution_count": 28,
     "metadata": {},
     "output_type": "execute_result"
    }
   ],
   "source": [
    "len(df[(df['Acquiring Institution'] == 'State Bank of Texas') & (df['ST'] == 'TX')])"
   ]
  },
  {
   "cell_type": "code",
   "execution_count": 32,
   "id": "187711e7",
   "metadata": {},
   "outputs": [
    {
     "data": {
      "text/plain": [
       "4"
      ]
     },
     "execution_count": 32,
     "metadata": {},
     "output_type": "execute_result"
    }
   ],
   "source": [
    "# 9) What is the most common city in California for a bank to fail in?\n",
    "df[df['ST'] == 'CA']['City'].value_counts().iloc[0]"
   ]
  },
  {
   "cell_type": "code",
   "execution_count": null,
   "id": "69fd7f2c",
   "metadata": {},
   "outputs": [],
   "source": []
  }
 ],
 "metadata": {
  "kernelspec": {
   "display_name": "Python 3 (ipykernel)",
   "language": "python",
   "name": "python3"
  },
  "language_info": {
   "codemirror_mode": {
    "name": "ipython",
    "version": 3
   },
   "file_extension": ".py",
   "mimetype": "text/x-python",
   "name": "python",
   "nbconvert_exporter": "python",
   "pygments_lexer": "ipython3",
   "version": "3.11.7"
  }
 },
 "nbformat": 4,
 "nbformat_minor": 5
}
